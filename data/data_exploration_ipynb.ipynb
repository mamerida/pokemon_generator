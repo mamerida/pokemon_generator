{
  "cells": [
    {
      "cell_type": "markdown",
      "metadata": {
        "id": "pQovUOupaZ5y"
      },
      "source": [
        "# Introducción\n",
        "\n",
        "El objetivo de este proyecto es generar imágenes realistas de nuevos Pokémon utilizando una red neuronal autoencoder variacional (VAE). Este tipo de red aprende una representación comprimida de las imágenes en un espacio latente, donde cada punto puede corresponder a una posible variante visual. A partir de este espacio, la VAE puede generar nuevos Pokémon basándose en la posición de un punto y sus vecinos cercanos dentro del gráfico del espacio latente, permitiendo crear criaturas visualmente coherentes con aquellas que presentan características similares en el conjunto de entrenamiento."
      ]
    },
    {
      "cell_type": "markdown",
      "metadata": {
        "id": "ELO0I5e0a47G"
      },
      "source": [
        "## Configuración del repositorio"
      ]
    },
    {
      "cell_type": "code",
      "execution_count": null,
      "metadata": {
        "id": "9iW-3_54bIhg"
      },
      "outputs": [],
      "source": [
        "import torch\n",
        "from torch.utils.data import Dataset\n",
        "from torchvision import datasets\n",
        "from torchvision.transforms import ToTensor\n",
        "from torchvision import transforms\n",
        "import matplotlib.pyplot as plt\n",
        "import kagglehub\n",
        "import os\n",
        "import pandas as pd\n",
        "from sklearn.preprocessing import MultiLabelBinarizer\n",
        "from PIL import Image\n",
        "from sklearn.preprocessing import LabelEncoder"
      ]
    },
    {
      "cell_type": "markdown",
      "metadata": {
        "id": "Sp85u-v2cCPf"
      },
      "source": [
        "# Dataset de Pokemons\n",
        "\n",
        "Para este proyecto, utilizamos el dataset [Pokémon Images and Types](https://www.kaggle.com/datasets/vishalsubbiah/pokemon-images-and-types?resource=download) , que contiene imágenes de Pokémon junto con sus respectivos tipos. Las imágenes están en formato .png, en color RGB, y presentan una resolución adecuada para tareas de generación de imágenes con redes neuronales convolucionales.\n",
        "\n",
        "Cada entrada del dataset incluye el nombre del Pokémon, su tipo primario y, en algunos casos, un tipo secundario. En este proyecto, nos enfocamos únicamente en el tipo primario como etiqueta condicional para la generación de nuevas imágenes, con el fin de simplificar el problema y aprovechar las correlaciones visuales asociadas a cada tipo.\n",
        "\n",
        "\n",
        "## Configuración del Dataset"
      ]
    },
    {
      "cell_type": "code",
      "execution_count": null,
      "metadata": {
        "id": "Oinhs3XhdCw0"
      },
      "outputs": [],
      "source": [
        "csv_path = \"..\" + \"/pokemon.csv\"\n",
        "img_path = \"..\" + \"/pokemon\"\n",
        "\n",
        "class PokemonDataset(Dataset):\n",
        "    def __init__(self, csv_file, img_dir, transform=None):\n",
        "        self.img_labels = pd.read_csv(csv_file)\n",
        "        self.img_dir = img_dir\n",
        "        self.transform = transform\n",
        "        self.label_encoder = LabelEncoder()\n",
        "        self.encoded_types = self.label_encoder.fit_transform(self.img_labels.iloc[:, 1])  # Segunda columna: tipo 1\n",
        "\n",
        "    def __len__(self):\n",
        "        return len(self.img_labels)\n",
        "\n",
        "    def __getitem__(self, idx):\n",
        "        img_path = os.path.join(self.img_dir, self.img_labels.iloc[idx, 0] + \".png\")\n",
        "        image = Image.open(img_path).convert(\"RGB\")\n",
        "        if self.transform:\n",
        "            image = self.transform(image)\n",
        "        label = self.encoded_types[idx]\n",
        "        return image, label"
      ]
    },
    {
      "cell_type": "markdown",
      "metadata": {
        "id": "YWBjc877diRh"
      },
      "source": [
        "Se define una transformación que primero redimensiona todas las imágenes a un tamaño fijo de $112 \\times 112$ píxeles, lo cual es útil para estandarizar la entrada del modelo, especialmente cuando se trabaja con redes convolucionales que requieren dimensiones consistentes.\n",
        "\n",
        "Luego, la imagen se convierte a un tensor de PyTorch con valores en el rango $[0, 1]$, utilizando ToTensor(), que también reorganiza las dimensiones de la imagen del formato estándar de PIL (alto, ancho, canales) al formato utilizado por PyTorch (canales, alto, ancho).\n",
        "\n",
        "Finalmente, se aplica una normalización para escalar los valores de los píxeles al rango $[-1, 1]$"
      ]
    },
    {
      "cell_type": "code",
      "execution_count": null,
      "metadata": {
        "id": "Awp0HkGVdy9i"
      },
      "outputs": [],
      "source": [
        "transform = transforms.Compose([\n",
        "    transforms.Resize((112, 112)),\n",
        "    transforms.ToTensor(),\n",
        "    transforms.Normalize(mean=[0.5, 0.5, 0.5], std=[0.5, 0.5, 0.5])  # a [-1, 1]\n",
        "])"
      ]
    },
    {
      "cell_type": "markdown",
      "metadata": {
        "id": "Ybhan8rWeRaD"
      },
      "source": [
        "# Conclusión\n",
        "\n",
        "Se puede concluir que el dataset es altamente adecuado para tareas de generación de imágenes, ya que las muestras presentan un buen nivel de calidad y consistencia visual. Las imágenes están centradas, con los Pokémon recortados sobre fondos transparentes o simples, lo que permite al modelo enfocarse en las características del personaje sin interferencias del entorno.\n",
        "\n",
        "Además, la estructura del dataset, que incluye etiquetas del tipo primario, permite incorporar información semántica durante el entrenamiento de modelos generativos condicionales. Esta organización facilita la exploración del espacio latente guiado por clases, mejorando la coherencia entre el tipo del Pokémon y su apariencia visual en las imágenes generadas."
      ]
    },
    {
      "cell_type": "markdown",
      "metadata": {
        "id": "m03WKcoqeOMw"
      },
      "source": [
        "Se puede concluir que el dataset es altamente adecuado para tareas de generación de imágenes, ya que las muestras presentan un buen nivel de calidad y consistencia visual. Las imágenes están centradas, con los Pokémon recortados sobre fondos transparentes o simples, lo que permite al modelo enfocarse en las características del personaje sin interferencias del entorno.\n",
        "\n",
        "Además, la estructura del dataset, que incluye etiquetas del tipo primario, permite incorporar información semántica durante el entrenamiento de modelos generativos condicionales. Esta organización facilita la exploración del espacio latente guiado por clases, mejorando la coherencia entre el tipo del Pokémon y su apariencia visual en las imágenes generadas."
      ]
    }
  ],
  "metadata": {
    "colab": {
      "provenance": []
    },
    "kernelspec": {
      "display_name": "Python 3",
      "name": "python3"
    },
    "language_info": {
      "name": "python"
    }
  },
  "nbformat": 4,
  "nbformat_minor": 0
}
