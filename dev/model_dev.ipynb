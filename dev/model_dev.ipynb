{
 "cells": [
  {
   "cell_type": "markdown",
   "id": "fe9d2925",
   "metadata": {},
   "source": [
    "# Este es el archivo seba"
   ]
  }
 ],
 "metadata": {
  "language_info": {
   "name": "python"
  }
 },
 "nbformat": 4,
 "nbformat_minor": 5
}
